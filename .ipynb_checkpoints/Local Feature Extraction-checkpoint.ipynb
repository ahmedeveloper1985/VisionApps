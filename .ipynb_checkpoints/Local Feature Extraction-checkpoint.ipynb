{
 "cells": [
  {
   "cell_type": "markdown",
   "metadata": {},
   "source": [
    "# <img src=\"images/fast.png\"/>"
   ]
  },
  {
   "cell_type": "markdown",
   "metadata": {},
   "source": [
    "# 2-BRIEF\n",
    "\n",
    " BRIEF uses an entirely random sampling pattern when sampling pixels from an image patch. While the descriptor can provide fast, accurate matches, it does not provide any method of orientation compensation, making the descriptor substantially less adaptable to changes in plane rotation as compared to its ORB, BRISK, and FREAK counterparts."
   ]
  },
  {
   "cell_type": "markdown",
   "metadata": {},
   "source": [
    "# 3-ORB: Oriented Fast and Rotated Brief\n",
    "\n",
    "ORB Generates key points at distinctive image regions, for each point a binary feature vector is created to represent it\n",
    "\n",
    "\n",
    "ORB uses FAST to generate local keypoints then BRIEF to describe these keypoints"
   ]
  }
 ],
 "metadata": {
  "kernelspec": {
   "display_name": "Python 3",
   "language": "python",
   "name": "python3"
  },
  "language_info": {
   "codemirror_mode": {
    "name": "ipython",
    "version": 3
   },
   "file_extension": ".py",
   "mimetype": "text/x-python",
   "name": "python",
   "nbconvert_exporter": "python",
   "pygments_lexer": "ipython3",
   "version": "3.6.3"
  }
 },
 "nbformat": 4,
 "nbformat_minor": 2
}
