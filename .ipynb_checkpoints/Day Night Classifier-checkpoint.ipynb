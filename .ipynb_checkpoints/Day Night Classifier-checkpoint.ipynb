{
 "cells": [
  {
   "cell_type": "code",
   "execution_count": 2,
   "metadata": {
    "collapsed": true
   },
   "outputs": [],
   "source": [
    "import numpy as np\n",
    "import cv2\n",
    "import glob"
   ]
  },
  {
   "cell_type": "code",
   "execution_count": 3,
   "metadata": {
    "collapsed": true
   },
   "outputs": [],
   "source": [
    "train_day = r\".\\day_night_images\\training\\day\"\n",
    "test_day = r\".\\day_night_images\\test\\day\"\n",
    "\n",
    "train_night = r\".\\day_night_images\\training\\night\"\n",
    "test_night = r\".\\day_night_images\\test\\night\""
   ]
  },
  {
   "cell_type": "markdown",
   "metadata": {},
   "source": [
    "# Simple Histogram Based Feature Engineering"
   ]
  },
  {
   "cell_type": "code",
   "execution_count": 5,
   "metadata": {
    "collapsed": true
   },
   "outputs": [],
   "source": [
    "def calsHist(img):\n",
    "  #  grey = cv2.cvtColor(img,cv2.COLOR_BGR2GRAY)\n",
    "    hist = cv2.calcHist([img],[0,1,2],None,[8,8,8],[0,256,0,256,0,256]).flatten()\n",
    "    return hist"
   ]
  },
  {
   "cell_type": "markdown",
   "metadata": {},
   "source": [
    "# Read Images Into Train/Test Arrays"
   ]
  },
  {
   "cell_type": "code",
   "execution_count": 6,
   "metadata": {},
   "outputs": [],
   "source": [
    "X_train = []\n",
    "X_test = []\n",
    "y_train = []\n",
    "y_test = []\n",
    "\n",
    "for path in glob.glob(train_day + \"/*.jpg\"):\n",
    "    img = cv2.imread(path)\n",
    "    hist = calsHist(img)\n",
    "    X_train.append(hist)\n",
    "    y_train.append(1)\n",
    "    \n",
    "for path in glob.glob(train_night + \"/*.jpg\"):\n",
    "    img = cv2.imread(path)\n",
    "    hist = calsHist(img)\n",
    "    X_train.append(hist)\n",
    "    y_train.append(0)\n",
    "    \n",
    "    \n",
    "for path in glob.glob(test_day + \"/*.jpg\"):\n",
    "    img = cv2.imread(path)\n",
    "    hist = calsHist(img)\n",
    "    X_test.append(hist)\n",
    "    y_test.append(1)\n",
    "    \n",
    "    \n",
    "for path in glob.glob(test_night + \"/*.jpg\"):\n",
    "    img = cv2.imread(path)\n",
    "    hist = calsHist(img)\n",
    "    X_test.append(hist)\n",
    "    y_test.append(0)"
   ]
  },
  {
   "cell_type": "markdown",
   "metadata": {},
   "source": [
    "# Support Vector Classifier (Around 96.8% Accuracy Score)"
   ]
  },
  {
   "cell_type": "code",
   "execution_count": 9,
   "metadata": {
    "collapsed": true
   },
   "outputs": [],
   "source": [
    "from sklearn.svm import SVC\n",
    "\n",
    "model = SVC(C=1.0,kernel = \"linear\")\n",
    "model.fit(X_train,y_train)\n",
    "\n",
    "preds = model.predict(X_test)"
   ]
  },
  {
   "cell_type": "code",
   "execution_count": 11,
   "metadata": {},
   "outputs": [
    {
     "data": {
      "text/plain": [
       "0.96875"
      ]
     },
     "execution_count": 11,
     "metadata": {},
     "output_type": "execute_result"
    }
   ],
   "source": [
    "from sklearn.metrics import accuracy_score\n",
    "\n",
    "accuracy_score(y_test,preds)"
   ]
  },
  {
   "cell_type": "markdown",
   "metadata": {},
   "source": [
    "# Random Forest Classifier (Around 100% Accuracy Score)"
   ]
  },
  {
   "cell_type": "code",
   "execution_count": 15,
   "metadata": {},
   "outputs": [],
   "source": [
    "from sklearn.ensemble import RandomForestClassifier\n",
    "\n",
    "model = RandomForestClassifier(n_estimators=100)\n",
    "model.fit(X_train,y_train)\n",
    "\n",
    "preds = model.predict(X_test)"
   ]
  },
  {
   "cell_type": "code",
   "execution_count": 18,
   "metadata": {},
   "outputs": [
    {
     "data": {
      "text/plain": [
       "1.0"
      ]
     },
     "execution_count": 18,
     "metadata": {},
     "output_type": "execute_result"
    }
   ],
   "source": [
    "from sklearn.metrics import accuracy_score\n",
    "\n",
    "accuracy_score(y_test,preds)"
   ]
  }
 ],
 "metadata": {
  "kernelspec": {
   "display_name": "Python 3",
   "language": "python",
   "name": "python3"
  },
  "language_info": {
   "codemirror_mode": {
    "name": "ipython",
    "version": 3
   },
   "file_extension": ".py",
   "mimetype": "text/x-python",
   "name": "python",
   "nbconvert_exporter": "python",
   "pygments_lexer": "ipython3",
   "version": "3.6.3"
  }
 },
 "nbformat": 4,
 "nbformat_minor": 2
}
