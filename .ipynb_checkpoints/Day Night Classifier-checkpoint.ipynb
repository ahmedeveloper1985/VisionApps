{
 "cells": [
  {
   "cell_type": "code",
   "execution_count": 56,
   "metadata": {},
   "outputs": [],
   "source": [
    "import numpy as np\n",
    "import cv2\n",
    "import glob"
   ]
  },
  {
   "cell_type": "code",
   "execution_count": 57,
   "metadata": {},
   "outputs": [],
   "source": [
    "train_day = r\".\\day_night_images\\training\\day\"\n",
    "test_day = r\".\\day_night_images\\test\\day\"\n",
    "\n",
    "train_night = r\".\\day_night_images\\training\\night\"\n",
    "test_night = r\".\\day_night_images\\test\\night\""
   ]
  },
  {
   "cell_type": "code",
   "execution_count": 58,
   "metadata": {},
   "outputs": [],
   "source": [
    "def calsHist(img):\n",
    "    grey = cv2.cvtColor(img,cv2.COLOR_BGR2GRAY)\n",
    "    hist = cv2.calcHist([grey],[0],None,[256],[0,255]).flatten()\n",
    "    return hist"
   ]
  },
  {
   "cell_type": "code",
   "execution_count": 59,
   "metadata": {},
   "outputs": [],
   "source": [
    "X_train = []\n",
    "X_test = []\n",
    "y_train = []\n",
    "y_test = []\n",
    "\n",
    "for path in glob.glob(train_day + \"/*.jpg\"):\n",
    "    img = cv2.imread(path)\n",
    "    hist = calsHist(img)\n",
    "    X_train.append(hist)\n",
    "    y_train.append(1)\n",
    "    \n",
    "for path in glob.glob(train_night + \"/*.jpg\"):\n",
    "    img = cv2.imread(path)\n",
    "    hist = calsHist(img)\n",
    "    X_train.append(hist)\n",
    "    y_train.append(0)\n",
    "    \n",
    "    \n",
    "for path in glob.glob(test_day + \"/*.jpg\"):\n",
    "    img = cv2.imread(path)\n",
    "    hist = calsHist(img)\n",
    "    X_test.append(hist)\n",
    "    y_test.append(1)\n",
    "    \n",
    "    \n",
    "for path in glob.glob(test_night + \"/*.jpg\"):\n",
    "    img = cv2.imread(path)\n",
    "    hist = calsHist(img)\n",
    "    X_test.append(hist)\n",
    "    y_test.append(0)"
   ]
  },
  {
   "cell_type": "code",
   "execution_count": 60,
   "metadata": {},
   "outputs": [],
   "source": [
    "from sklearn.svm import SVC\n",
    "\n",
    "model = SVC(C=1.0,kernel = \"linear\")\n",
    "model.fit(X_train,y_train)\n",
    "\n",
    "preds = model.predict(X_test)"
   ]
  },
  {
   "cell_type": "code",
   "execution_count": 61,
   "metadata": {},
   "outputs": [
    {
     "data": {
      "text/plain": [
       "0.93125"
      ]
     },
     "execution_count": 61,
     "metadata": {},
     "output_type": "execute_result"
    }
   ],
   "source": [
    "from sklearn.metrics import accuracy_score\n",
    "\n",
    "accuracy_score(y_test,preds)"
   ]
  },
  {
   "cell_type": "code",
   "execution_count": 69,
   "metadata": {},
   "outputs": [],
   "source": [
    "from sklearn.ensemble import RandomForestClassifier\n",
    "\n",
    "model = RandomForestClassifier(n_estimators=100)\n",
    "model.fit(X_train,y_train)\n",
    "\n",
    "preds = model.predict(X_test)"
   ]
  },
  {
   "cell_type": "code",
   "execution_count": 70,
   "metadata": {},
   "outputs": [
    {
     "data": {
      "text/plain": [
       "0.95"
      ]
     },
     "execution_count": 70,
     "metadata": {},
     "output_type": "execute_result"
    }
   ],
   "source": [
    "from sklearn.metrics import accuracy_score\n",
    "\n",
    "accuracy_score(y_test,preds)"
   ]
  }
 ],
 "metadata": {
  "kernelspec": {
   "display_name": "Python 3",
   "language": "python",
   "name": "python3"
  },
  "language_info": {
   "codemirror_mode": {
    "name": "ipython",
    "version": 3
   },
   "file_extension": ".py",
   "mimetype": "text/x-python",
   "name": "python",
   "nbconvert_exporter": "python",
   "pygments_lexer": "ipython3",
   "version": "3.7.1"
  }
 },
 "nbformat": 4,
 "nbformat_minor": 2
}
