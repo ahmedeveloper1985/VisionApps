{
 "cells": [
  {
   "cell_type": "code",
   "execution_count": 46,
   "metadata": {
    "collapsed": true
   },
   "outputs": [],
   "source": [
    "import numpy as np\n",
    "import torch\n",
    "from torch import nn\n",
    "import torch.utils.data as Data\n",
    "from torch.utils.data import DataLoader\n",
    "import string"
   ]
  },
  {
   "cell_type": "code",
   "execution_count": 29,
   "metadata": {},
   "outputs": [],
   "source": [
    "def letters(input):\n",
    "    valids = []\n",
    "    last_space = False\n",
    "    for character in input:\n",
    "        if character.isalpha():\n",
    "            last_space = False\n",
    "            valids.append(character)\n",
    "        else:\n",
    "            if last_space:\n",
    "                continue\n",
    "            last_space=True\n",
    "            valids.append(\" \")\n",
    "    return ''.join(valids)"
   ]
  },
  {
   "cell_type": "code",
   "execution_count": 36,
   "metadata": {},
   "outputs": [],
   "source": [
    "with open(\"./data/anna.txt\") as file:\n",
    "    data = letters(file.read().lower().strip()).strip()"
   ]
  },
  {
   "cell_type": "code",
   "execution_count": 39,
   "metadata": {},
   "outputs": [],
   "source": [
    "words = np.array(data.split(\" \"))"
   ]
  },
  {
   "cell_type": "code",
   "execution_count": 58,
   "metadata": {},
   "outputs": [],
   "source": [
    "alpha = {}\n",
    "\n",
    "for i,a in enumerate(list(string.ascii_lowercase)):\n",
    "    alpha[a] = i\n",
    "    \n",
    "alpha[\" \"] = 26\n",
    "\n",
    "def hot_encoded(c):\n",
    "    ix = alpha[c]\n",
    "    arr = np.zeros(len(alpha.keys()),dtype = \"uint8\")\n",
    "    arr[ix] = 1\n",
    "    return arr"
   ]
  },
  {
   "cell_type": "code",
   "execution_count": null,
   "metadata": {},
   "outputs": [],
   "source": []
  }
 ],
 "metadata": {
  "kernelspec": {
   "display_name": "Python 3",
   "language": "python",
   "name": "python3"
  },
  "language_info": {
   "codemirror_mode": {
    "name": "ipython",
    "version": 3
   },
   "file_extension": ".py",
   "mimetype": "text/x-python",
   "name": "python",
   "nbconvert_exporter": "python",
   "pygments_lexer": "ipython3",
   "version": "3.6.3"
  }
 },
 "nbformat": 4,
 "nbformat_minor": 2
}
